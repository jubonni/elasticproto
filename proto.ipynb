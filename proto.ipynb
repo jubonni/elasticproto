{
 "cells": [
  {
   "cell_type": "code",
   "execution_count": null,
   "id": "2ad8a1fe-d28d-4148-9585-e7a250eebb61",
   "metadata": {},
   "outputs": [],
   "source": [
    "%load_ext autoreload\n",
    "%autoreload 2"
   ]
  },
  {
   "cell_type": "markdown",
   "id": "39a3f16f-f375-4e63-aa2b-4c91a04011f9",
   "metadata": {},
   "source": [
    "# Elastic API prototype\n",
    "## Steps \n",
    "1. Generate docs\n",
    "2. Push docs to elastic\n",
    "3. Inference agent\n",
    "4. Search\n",
    "\n"
   ]
  },
  {
   "cell_type": "markdown",
   "id": "79930d15-6d7a-44f1-ac5c-c01bb2ee528c",
   "metadata": {},
   "source": [
    "# 1. Generate docs\n",
    "Loads the api specs and guides to create a ndjson elastic can ingest.\n",
    "\n",
    "Sources\n",
    "- all guides from https://github.com/elastic/elasticsearch/tree/main/docs/reference\n",
    "- api spec from https://github.com/elastic/elasticsearch/tree/main/rest-api-spec"
   ]
  },
  {
   "cell_type": "code",
   "execution_count": null,
   "id": "d7b37189-af01-49fb-8508-df98a3d4c9f9",
   "metadata": {},
   "outputs": [],
   "source": [
    "# TODO: Add generation using openai to improve search\n",
    "\n",
    "def generate_tags(text):\n",
    "    raise Exception(\"\")\n",
    "\n",
    "def generate_target_outcomes(text):\n",
    "    raise Exception(\"\")\n",
    "\n",
    "def generate_summary(text):\n",
    "    raise Exception(\"\")\n",
    "\n",
    "def generate_questions_this_answers(text):\n",
    "    raise Exception(\"\")"
   ]
  },
  {
   "cell_type": "markdown",
   "id": "86b8ed3b-ee6a-429d-9712-3d9e531cba61",
   "metadata": {},
   "source": [
    "### Docs formatters"
   ]
  },
  {
   "cell_type": "code",
   "execution_count": null,
   "id": "2c68a704-3689-4eac-a2e3-912d7b9d855b",
   "metadata": {},
   "outputs": [],
   "source": [
    "from datetime import datetime\n",
    "import json\n",
    "import re\n",
    "\n",
    "from format_docs import (\n",
    "    format_elastic_guides,\n",
    "    format_elastic_api_specs,\n",
    ")\n"
   ]
  },
  {
   "cell_type": "markdown",
   "id": "001b570f-e282-48cf-883f-e3ec2560c21a",
   "metadata": {},
   "source": [
    "### Turn data to documents"
   ]
  },
  {
   "cell_type": "code",
   "execution_count": null,
   "id": "9b01b62a-c833-47bb-aadd-57fc5116290e",
   "metadata": {},
   "outputs": [],
   "source": [
    "from documents import docify\n",
    "\n",
    "\n",
    "docify(\"guides\")\n",
    "docify(\"api-spec\")\n"
   ]
  },
  {
   "cell_type": "code",
   "execution_count": null,
   "id": "13290519-5276-4cda-8cc9-3c9b28dded14",
   "metadata": {},
   "outputs": [],
   "source": [
    "from utils.file import generate_ndjson_from_docs_folder\n",
    "\n",
    "# TODO: HERE\n",
    "\n",
    "generate_ndjson_from_docs_folder('_docs/api-spec', '_docs/ndjson/api-spec.ndjson')\n",
    "generate_ndjson_from_docs_folder('_docs/guides', '_docs/ndjson/guides.ndjson')"
   ]
  },
  {
   "cell_type": "markdown",
   "id": "bd1e70ba-5a65-4379-a7d7-b3ad5b7195be",
   "metadata": {},
   "source": [
    "# Push files to elastic\n"
   ]
  },
  {
   "cell_type": "code",
   "execution_count": null,
   "id": "210f9d06-3f76-4ba7-b80b-237ed2b80b6b",
   "metadata": {},
   "outputs": [],
   "source": [
    "from sentence_transformers import SentenceTransformer\n",
    "\n",
    "model = SentenceTransformer(\"all-MiniLM-L6-v2\")"
   ]
  },
  {
   "cell_type": "code",
   "execution_count": null,
   "id": "16335203-5d79-4a37-bb38-c9f61c7f7d9c",
   "metadata": {},
   "outputs": [],
   "source": [
    "from elasticsearch import Elasticsearch\n",
    "import os\n",
    "from dotenv import load_dotenv\n",
    "\n",
    "load_dotenv()\n",
    "\n",
    "ES_LOCAL_HOST = os.getenv(\"ES_LOCAL_HOST\")\n",
    "ES_LOCAL_API_KEY = os.getenv(\"ES_LOCAL_API_KEY\")\n",
    "\n",
    "\n",
    "client = Elasticsearch(\n",
    "    ES_LOCAL_HOST,\n",
    "    api_key=ES_LOCAL_API_KEY,\n",
    ")\n",
    "client.info()"
   ]
  },
  {
   "cell_type": "code",
   "execution_count": null,
   "id": "ba314c0e-bea1-4074-828e-c9eaab1508c6",
   "metadata": {},
   "outputs": [],
   "source": [
    "# client.indices.delete(index=index_name, ignore_unavailable=True)\n"
   ]
  },
  {
   "cell_type": "code",
   "execution_count": null,
   "id": "82cd309d-a3dd-4d5c-964c-2f7e0ef1b15e",
   "metadata": {},
   "outputs": [],
   "source": [
    "index_name = \"api-spec\"\n",
    "\n",
    "\n",
    "mappings = {\n",
    "    \"properties\": {\n",
    "        \"api_name_vector\": {\n",
    "            \"type\": \"dense_vector\",\n",
    "            \"dims\": 384,\n",
    "            \"index\": \"true\",\n",
    "            \"similarity\": \"cosine\",\n",
    "        },\n",
    "        \"paths_vector\": {\n",
    "            \"type\": \"dense_vector\",\n",
    "            \"dims\": 384,\n",
    "            \"index\": \"true\",\n",
    "            \"similarity\": \"cosine\",\n",
    "        },\n",
    "        \"title_vector\": {\n",
    "            \"type\": \"dense_vector\",\n",
    "            \"dims\": 384,\n",
    "            \"index\": \"true\",\n",
    "            \"similarity\": \"cosine\",\n",
    "        },\n",
    "        \"doc_vector\": {\n",
    "            \"type\": \"dense_vector\",\n",
    "            \"dims\": 384,\n",
    "            \"index\": \"true\",\n",
    "            \"similarity\": \"cosine\",\n",
    "        },\n",
    "    }\n",
    "}\n",
    "\n",
    "client.indices.create(index=index_name, mappings=mappings)"
   ]
  },
  {
   "cell_type": "code",
   "execution_count": null,
   "id": "8cd4205f-2e09-45be-9eee-5130f9d8ffd0",
   "metadata": {},
   "outputs": [],
   "source": [
    "import json\n",
    "\n",
    "def process_ndjson(file_path):\n",
    "    with open(file_path, 'r', encoding='utf-8') as file:\n",
    "        for line in file:\n",
    "            yield json.loads(line)\n",
    "\n",
    "\n",
    "operations = []\n",
    "for spec in process_ndjson(\"docs/api-spec.ndjson\"):\n",
    "    print(spec[\"meta\"][\"api_name\"])\n",
    "    \n",
    "    \n",
    "    operations.append({\"index\": {\"_index\": index_name}})\n",
    "\n",
    "    spec[\"api_name_vector\"] = model.encode(spec[\"meta\"][\"api_name\"]).tolist()\n",
    "    break \n",
    "\n",
    "    \n",
    "    spec[\"paths_vector\"] = model.encode(spec[\"meta\"][\"paths\"]).tolist()\n",
    "    spec[\"title_vector\"] = model.encode(spec[\"meta\"][\"title\"]).tolist()\n",
    "    spec[\"doc_vector\"] = model.encode(spec[\"doc\"]).tolist()\n",
    "\n",
    "    operations.append(spec)\n",
    "\n",
    "# client.bulk(index=index_name, operations=operations, refresh=True)"
   ]
  },
  {
   "cell_type": "code",
   "execution_count": null,
   "id": "649be9fb-5664-410f-8c7d-c6859b6a5f58",
   "metadata": {},
   "outputs": [],
   "source": []
  },
  {
   "cell_type": "code",
   "execution_count": null,
   "id": "81b8f995-49be-4a5d-ad09-c08051f8573d",
   "metadata": {},
   "outputs": [],
   "source": []
  },
  {
   "cell_type": "code",
   "execution_count": null,
   "id": "c688c5ca-0ecb-432c-9908-38ad2630d44e",
   "metadata": {},
   "outputs": [],
   "source": []
  },
  {
   "cell_type": "markdown",
   "id": "50bddbb9-196d-4472-a671-aa721e2e8752",
   "metadata": {},
   "source": [
    "# Training\n",
    "\n",
    "\n",
    "https://colab.research.google.com/github/elastic/elasticsearch-labs/blob/main/notebooks/search/00-quick-start.ipynb\n",
    "https://colab.research.google.com/github/elastic/elasticsearch-labs/blob/main/notebooks/search/03-ELSER.ipynb\n",
    "https://colab.research.google.com/github/elastic/elasticsearch-labs/blob/main/notebooks/integrations/cohere/inference-cohere.ipynb\n",
    "https://www.elastic.co/training/elasticsearch-engineer\n",
    "https://www.elastic.co/training/elastic-certified-engineer-exam\n",
    "https://github.com/mr1716/Elastic-Certified-Engineer-Exam-8.1\n",
    "https://github.com/LisaHJung/Beginners-guide-to-creating-a-full-stack-JavaScript-app-with-Elasticsearch/tree/main\n",
    "https://www.elastic.co/guide/en/elasticsearch/reference/current/security-api.html\n",
    "\n",
    "\n",
    "\n",
    "\n",
    "Data Management\n",
    "\n",
    "Define an index that satisfies a given set of requirements\n",
    "Define and use an index template for a given pattern that satisfies a given set of requirements\n",
    "Define and use a dynamic template that satisfies a given set of requirements\n",
    "Define an Index Lifecycle Management policy for a time-series index\n",
    "Define an index template that creates a new data stream\n",
    "Searching Data\n",
    "\n",
    "Write and execute a search query for terms and/or phrases in one or more fields of an index\n",
    "Write and execute a search query that is a Boolean combination of multiple queries and filters\n",
    "Write an asynchronous search\n",
    "Write and execute metric and bucket aggregations\n",
    "Write and execute aggregations that contain sub-aggregations\n",
    "Write and execute a query that searches across multiple clusters\n",
    "Write and execute a search that utilizes a runtime field\n",
    "Developing Search Applications\n",
    "\n",
    "Highlight the search terms in the response of a query\n",
    "Sort the results of a query by a given set of requirements\n",
    "Implement pagination of the results of a search query\n",
    "Define and use index aliases\n",
    "Define and use a search template\n",
    "Data Processing\n",
    "\n",
    "Define a mapping that satisfies a given set of requirements\n",
    "Define and use a custom analyzer that satisfies a given set of requirements\n",
    "Define and use multi-fields with different data types and/or analyzers\n",
    "Use the Reindex API and Update By Query API to reindex and/or update documents\n",
    "Define and use an ingest pipeline that satisfies a given set of requirements, including the use of Painless to modify documents\n",
    " Define runtime fields to retrieve custom values using Painless scripting\n",
    "Cluster Management\n",
    "\n",
    "Diagnose shard issues and repair a cluster's health\n",
    "Backup and restore a cluster and/or specific indices\n",
    "Configure a snapshot to be searchable\n",
    "Configure a cluster for cross-cluster search\n",
    "Implement cross-cluster replication"
   ]
  },
  {
   "cell_type": "code",
   "execution_count": null,
   "id": "48e63437-014d-4745-9f29-db518f2b96dc",
   "metadata": {},
   "outputs": [],
   "source": []
  }
 ],
 "metadata": {
  "kernelspec": {
   "display_name": "Python 3 (ipykernel)",
   "language": "python",
   "name": "python3"
  },
  "language_info": {
   "codemirror_mode": {
    "name": "ipython",
    "version": 3
   },
   "file_extension": ".py",
   "mimetype": "text/x-python",
   "name": "python",
   "nbconvert_exporter": "python",
   "pygments_lexer": "ipython3",
   "version": "3.9.6"
  }
 },
 "nbformat": 4,
 "nbformat_minor": 5
}
