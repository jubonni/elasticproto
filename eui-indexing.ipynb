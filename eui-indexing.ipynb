{
 "cells": [
  {
   "cell_type": "code",
   "execution_count": 1,
   "id": "804d9171-d768-488c-9983-4e11dc50a688",
   "metadata": {},
   "outputs": [],
   "source": [
    "from dotenv import load_dotenv\n",
    "import os\n",
    "\n",
    "from elasticsearch import Elasticsearch\n",
    "\n",
    "load_dotenv()\n",
    "\n",
    "es_url = os.getenv(\"ELASTIC_API_HOST\")\n",
    "es_api_key = os.getenv(\"ELASTIC_API_KEY_EUI\")\n",
    "\n",
    "client = Elasticsearch(\n",
    "    hosts=es_url,\n",
    "    api_key=es_api_key,\n",
    ")"
   ]
  },
  {
   "cell_type": "code",
   "execution_count": 2,
   "id": "3382a9ed-c497-47ee-b074-d9f8972fe4c5",
   "metadata": {},
   "outputs": [
    {
     "data": {
      "text/plain": [
       "ObjectApiResponse({'name': 'ea54aa2ffb34', 'cluster_name': 'docker-cluster', 'cluster_uuid': 'emuhG2ZRT3CaQ7rIpdX0bg', 'version': {'number': '8.15.3', 'build_flavor': 'default', 'build_type': 'docker', 'build_hash': 'f97532e680b555c3a05e73a74c28afb666923018', 'build_date': '2024-10-09T22:08:00.328917561Z', 'build_snapshot': False, 'lucene_version': '9.11.1', 'minimum_wire_compatibility_version': '7.17.0', 'minimum_index_compatibility_version': '7.0.0'}, 'tagline': 'You Know, for Search'})"
      ]
     },
     "execution_count": 2,
     "metadata": {},
     "output_type": "execute_result"
    }
   ],
   "source": [
    "client.info()\n"
   ]
  },
  {
   "cell_type": "code",
   "execution_count": null,
   "id": "26159188-ee1c-4245-bf11-68dc02dec3d2",
   "metadata": {},
   "outputs": [],
   "source": [
    "elastic_eui_index = { \"index\": { \"_index\": \"elastic-eui-docs\", \"_id\": \"9780553351927\"}}\n",
    "\n",
    "documents = [\n",
    "  {\"name\": \"Snow Crash\", \"_extract_binary_content\": true, \"_reduce_whitespace\": true, \"_run_ml_inference\": true},\n",
    "]\n",
    "\n",
    "documents_with_eui_index = []\n",
    "\n",
    "for each in documents:\n",
    "    documents_with_eui_index += elastic_eui_index\n",
    "    documents_with_eui_index += each\n",
    "\n",
    "client.bulk(operations=documents, pipeline=\"ent-search-generic-ingestion\")"
   ]
  }
 ],
 "metadata": {
  "kernelspec": {
   "display_name": "Python 3 (ipykernel)",
   "language": "python",
   "name": "python3"
  },
  "language_info": {
   "codemirror_mode": {
    "name": "ipython",
    "version": 3
   },
   "file_extension": ".py",
   "mimetype": "text/x-python",
   "name": "python",
   "nbconvert_exporter": "python",
   "pygments_lexer": "ipython3",
   "version": "3.10.0"
  }
 },
 "nbformat": 4,
 "nbformat_minor": 5
}
